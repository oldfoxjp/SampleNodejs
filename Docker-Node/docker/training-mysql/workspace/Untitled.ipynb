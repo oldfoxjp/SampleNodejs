{
 "cells": [
  {
   "cell_type": "code",
   "execution_count": 1,
   "id": "b3bb65d5-ce4b-4526-8ae7-b98d7e34724f",
   "metadata": {},
   "outputs": [],
   "source": [
    "import numpy as np\n"
   ]
  },
  {
   "cell_type": "code",
   "execution_count": null,
   "id": "1dcd131c-dd38-489b-b976-0059af08ec14",
   "metadata": {},
   "outputs": [],
   "source": [
    "print (\""
   ]
  }
 ],
 "metadata": {
  "kernelspec": {
   "display_name": "Python 3 (ipykernel)",
   "language": "python",
   "name": "python3"
  },
  "language_info": {
   "codemirror_mode": {
    "name": "ipython",
    "version": 3
   },
   "file_extension": ".py",
   "mimetype": "text/x-python",
   "name": "python",
   "nbconvert_exporter": "python",
   "pygments_lexer": "ipython3",
   "version": "3.11.1"
  }
 },
 "nbformat": 4,
 "nbformat_minor": 5
}
